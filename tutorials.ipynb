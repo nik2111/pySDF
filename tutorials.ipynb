{
 "cells": [
  {
   "cell_type": "markdown",
   "id": "8e9a03a7",
   "metadata": {},
   "source": [
    "# Creating spin and phonon operators"
   ]
  },
  {
   "cell_type": "code",
   "execution_count": 1,
   "id": "4c22eccf",
   "metadata": {},
   "outputs": [
    {
     "name": "stderr",
     "output_type": "stream",
     "text": [
      "/home/nikhil/anaconda3/lib/python3.9/site-packages/scipy/__init__.py:146: UserWarning: A NumPy version >=1.16.5 and <1.23.0 is required for this version of SciPy (detected version 1.26.4\n",
      "  warnings.warn(f\"A NumPy version >={np_minversion} and <{np_maxversion}\"\n"
     ]
    }
   ],
   "source": [
    "from pySDF import *\n",
    "import numpy as np"
   ]
  },
  {
   "cell_type": "markdown",
   "id": "0704993e",
   "metadata": {},
   "source": [
    "pySDF is built to work with qutip and there are two classes for spin operators and states respectively. This allows for easy creating of spin states. We will first start by defining the number of spins/ions."
   ]
  },
  {
   "cell_type": "markdown",
   "id": "2b2bc160",
   "metadata": {},
   "source": [
    "# Spin Operators"
   ]
  },
  {
   "cell_type": "code",
   "execution_count": 3,
   "id": "53a4e938",
   "metadata": {},
   "outputs": [],
   "source": [
    "nSpins = 2\n",
    "spinOperators = SpinOperators(nSpins)\n",
    "spinStates = SpinStates(nSpins)"
   ]
  },
  {
   "cell_type": "markdown",
   "id": "74db38ab",
   "metadata": {},
   "source": [
    "One of the most used spin operators is $\\sigma_{\\phi}^i$, where we have $\\sigma_{\\theta}^i = \\mathcal{I}\\otimes \\mathcal{I} \\otimes \\cdots \\sigma_{\\phi} \\otimes \\cdots \\otimes \\mathcal{I}$ i.e. Identity everywhere except the ith spin. Here $\\sigma_{\\phi} = \\cos(\\phi)\\sigma_x + \\sin(\\phi)\\sigma_y  $. <br>\n",
    "This is easily created using the following command:"
   ]
  },
  {
   "cell_type": "code",
   "execution_count": 5,
   "id": "ca8e1f58",
   "metadata": {},
   "outputs": [
    {
     "data": {
      "text/latex": [
       "Quantum object: dims = [[2, 2], [2, 2]], shape = (4, 4), type = oper, isherm = True $ \\\\ \\left(\\begin{matrix}0.0 & 1.0 & 0.0 & 0.0\\\\1.0 & 0.0 & 0.0 & 0.0\\\\0.0 & 0.0 & 0.0 & 1.0\\\\0.0 & 0.0 & 1.0 & 0.0\\\\\\end{matrix}\\right)$"
      ],
      "text/plain": [
       "Quantum object: dims = [[2, 2], [2, 2]], shape = (4, 4), type = oper, isherm = True\n",
       "Qobj data =\n",
       "[[0. 1. 0. 0.]\n",
       " [1. 0. 0. 0.]\n",
       " [0. 0. 0. 1.]\n",
       " [0. 0. 1. 0.]]"
      ]
     },
     "execution_count": 5,
     "metadata": {},
     "output_type": "execute_result"
    }
   ],
   "source": [
    "i=1; theta=0\n",
    "spinOperators.sigmaPhi(theta,i)"
   ]
  },
  {
   "cell_type": "markdown",
   "id": "b200bdc6",
   "metadata": {},
   "source": [
    "As expected this is simply"
   ]
  },
  {
   "cell_type": "code",
   "execution_count": 8,
   "id": "b5a3e288",
   "metadata": {},
   "outputs": [
    {
     "data": {
      "text/latex": [
       "Quantum object: dims = [[2, 2], [2, 2]], shape = (4, 4), type = oper, isherm = True $ \\\\ \\left(\\begin{matrix}0.0 & 1.0 & 0.0 & 0.0\\\\1.0 & 0.0 & 0.0 & 0.0\\\\0.0 & 0.0 & 0.0 & 1.0\\\\0.0 & 0.0 & 1.0 & 0.0\\\\\\end{matrix}\\right)$"
      ],
      "text/plain": [
       "Quantum object: dims = [[2, 2], [2, 2]], shape = (4, 4), type = oper, isherm = True\n",
       "Qobj data =\n",
       "[[0. 1. 0. 0.]\n",
       " [1. 0. 0. 0.]\n",
       " [0. 0. 0. 1.]\n",
       " [0. 0. 1. 0.]]"
      ]
     },
     "execution_count": 8,
     "metadata": {},
     "output_type": "execute_result"
    }
   ],
   "source": [
    "qt.tensor([qt.qeye(2),qt.sigmax()])"
   ]
  },
  {
   "cell_type": "code",
   "execution_count": 10,
   "id": "81d18716",
   "metadata": {},
   "outputs": [
    {
     "data": {
      "text/latex": [
       "Quantum object: dims = [[2, 2], [2, 2]], shape = (4, 4), type = oper, isherm = True $ \\\\ \\left(\\begin{matrix}0.0 & 1.0 & 1.0 & 0.0\\\\1.0 & 0.0 & 0.0 & 1.0\\\\1.0 & 0.0 & 0.0 & 1.0\\\\0.0 & 1.0 & 1.0 & 0.0\\\\\\end{matrix}\\right)$"
      ],
      "text/plain": [
       "Quantum object: dims = [[2, 2], [2, 2]], shape = (4, 4), type = oper, isherm = True\n",
       "Qobj data =\n",
       "[[0. 1. 1. 0.]\n",
       " [1. 0. 0. 1.]\n",
       " [1. 0. 0. 1.]\n",
       " [0. 1. 1. 0.]]"
      ]
     },
     "execution_count": 10,
     "metadata": {},
     "output_type": "execute_result"
    }
   ],
   "source": [
    "spinOperators.X()"
   ]
  },
  {
   "cell_type": "code",
   "execution_count": 11,
   "id": "ed4b9188",
   "metadata": {},
   "outputs": [
    {
     "data": {
      "text/latex": [
       "Quantum object: dims = [[2, 2], [2, 2]], shape = (4, 4), type = oper, isherm = True $ \\\\ \\left(\\begin{matrix}0.0 & 0.0 & 0.0 & 1.0\\\\0.0 & 0.0 & 1.0 & 0.0\\\\0.0 & 1.0 & 0.0 & 0.0\\\\1.0 & 0.0 & 0.0 & 0.0\\\\\\end{matrix}\\right)$"
      ],
      "text/plain": [
       "Quantum object: dims = [[2, 2], [2, 2]], shape = (4, 4), type = oper, isherm = True\n",
       "Qobj data =\n",
       "[[0. 0. 0. 1.]\n",
       " [0. 0. 1. 0.]\n",
       " [0. 1. 0. 0.]\n",
       " [1. 0. 0. 0.]]"
      ]
     },
     "execution_count": 11,
     "metadata": {},
     "output_type": "execute_result"
    }
   ],
   "source": [
    "qt.tensor([qt.sigmax(),qt.sigmax()])"
   ]
  },
  {
   "cell_type": "markdown",
   "id": "bcb044d8",
   "metadata": {},
   "source": [
    "Similarly there are several other operators available and more information can be obtained in the API referrence. The SpinOperators class makes it easy to define highly used spin operators quickly."
   ]
  },
  {
   "cell_type": "markdown",
   "id": "66f21e57",
   "metadata": {},
   "source": [
    "# Spin States\n",
    "Just like the spin operators, there are also some useful functions for easy generation of spin states. For example "
   ]
  },
  {
   "cell_type": "markdown",
   "id": "8e3789d9",
   "metadata": {},
   "source": [
    "# Phonon Operators"
   ]
  },
  {
   "cell_type": "code",
   "execution_count": null,
   "id": "a4a1d7fa",
   "metadata": {},
   "outputs": [],
   "source": []
  },
  {
   "cell_type": "code",
   "execution_count": null,
   "id": "fab6ce4a",
   "metadata": {},
   "outputs": [],
   "source": [
    "\n",
    "nOscillators = 3; oscDim=3 # number of states for truncating the Hilbert space\n"
   ]
  }
 ],
 "metadata": {
  "kernelspec": {
   "display_name": "Python 3 (ipykernel)",
   "language": "python",
   "name": "python3"
  },
  "language_info": {
   "codemirror_mode": {
    "name": "ipython",
    "version": 3
   },
   "file_extension": ".py",
   "mimetype": "text/x-python",
   "name": "python",
   "nbconvert_exporter": "python",
   "pygments_lexer": "ipython3",
   "version": "3.9.12"
  }
 },
 "nbformat": 4,
 "nbformat_minor": 5
}
